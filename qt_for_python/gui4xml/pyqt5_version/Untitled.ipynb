{
 "cells": [
  {
   "cell_type": "code",
   "execution_count": null,
   "metadata": {},
   "outputs": [
    {
     "name": "stdout",
     "output_type": "stream",
     "text": [
      "gui4xml: substrate_name= director signal\n",
      "=======================  populate_tree  ======================= \n",
      "Text: %s 1000\n",
      "------- options:  <Element 'calculate_gradients' at 0x1152f7040>\n",
      "------- options:  <Element 'track_internalized_substrates_in_each_agent' at 0x1152f70e0>\n",
      "------- options:  <Element 'initial_condition' at 0x1152f7130>\n",
      "------- options:  <Element 'dirichlet_nodes' at 0x1152f7220>\n",
      "--------- tree_item_changed(): <PyQt5.QtWidgets.QTreeWidgetItem object at 0x11547bca0> 0 director signal\n",
      "self.current_substrate=  director signal\n",
      "\n",
      "\n",
      "---- populate_tree(): self.param_d =  {'director signal': {'name': 'director signal', 'diffusion_coef': '1000', 'decay_rate': '.1', 'init_cond': '0', 'dirichlet_bc': '1', 'dirichlet_enabled': False, 'enable_xmin': False, 'enable_xmax': False, 'enable_ymin': False, 'enable_ymax': False, 'enable_zmin': False, 'enable_zmax': False}, 'cargo signal': {'name': 'cargo signal', 'diffusion_coef': '1000', 'decay_rate': '.4', 'init_cond': '0', 'dirichlet_bc': '1', 'dirichlet_enabled': False, 'enable_xmin': False, 'enable_xmax': False, 'enable_ymin': False, 'enable_ymax': False, 'enable_zmin': False, 'enable_zmax': False}}\n",
      "=======================  leaving populate_tree  ======================= \n",
      "------ cycle_changed_cb(): idx =  0\n",
      "customize_cycle_choices():  idx =  -1\n",
      " new stacked widget: t00 ------------->  0\n",
      " new stacked widget: t01 ------------->  1\n",
      " new stacked widget: t02 ------------->  2\n",
      " new stacked widget: t03 ------------->  3\n",
      " new stacked widget: d00 ------------->  4\n",
      " new stacked widget: d01 ------------->  5\n",
      " new stacked widget: d02 ------------->  6\n",
      " new stacked widget: d03 ------------->  7\n",
      "gui4xml: cd_name= director cell\n",
      "--------- fill_gui: cell_def_name= director cell\n",
      "cellname.text(0)= director cell\n",
      "cellidx= <built-in method indexOfChild of QTreeWidgetItem object at 0x1153e4af0>\n",
      "cell_def_name= director cell\n",
      "break out of cell_def loop with idx= 0\n",
      " >> cycle_path= .//cell_definition[1]//phenotype//cycle , code= 5\n",
      " >> phase_transition_path \n",
      "customize_cycle_choices():  idx =  0\n",
      "<Element 'rate' at 0x1152f7540>\n",
      "start_index= 0\n",
      " >> phase_durations_path = .//cell_definition[1]//phenotype//cycle//phase_durations\n",
      " >> pd_uep = None\n",
      "death_path= .//cell_definition[1]//phenotype//death//\n",
      " >> phase_durations_path = .//cell_definition[1]//phenotype//death//model[1]//phase_durations\n",
      " >> pd_uep = <Element 'phase_durations' at 0x1152f7680>\n",
      "<Element 'duration' at 0x1152f76d0>\n",
      "index= 0\n",
      " >> necrosis phase_durations_path = .//cell_definition[1]//phenotype//death//model[2]//phase_durations\n",
      " >> pd_uep = <Element 'phase_durations' at 0x1152f7bd0>\n",
      "<Element 'duration' at 0x1152f7c20>\n",
      "index= 0\n",
      "<Element 'duration' at 0x1152f7c70>\n",
      "index= 1\n",
      "volume_path= .//cell_definition[1]//phenotype//volume//\n",
      "mechanics_path= .//cell_definition[1]//phenotype//mechanics//\n",
      "motility_path= .//cell_definition[1]//phenotype//motility//\n",
      "secretion_path = .//cell_definition[1]//phenotype//secretion//\n",
      "uep_secretion =  <Element 'secretion' at 0x1152fda90>\n",
      "0 ) -- secretion substrate =  director signal\n",
      "1 ) -- secretion substrate =  cargo signal\n",
      "uep_custom_data= <Element 'custom_data' at 0x115302040>\n",
      "0 )  <Element 'receptor' at 0x115302090>\n",
      "tag= receptor\n",
      "cell_def_tab.py: ------- fill_substrates_comboboxes\n",
      " -->  director signal\n",
      "------ motility_substrate_changed_cb(): idx =  0\n",
      "director signal\n",
      "------ secretion_substrate_changed_cb(): idx =  0\n",
      "director signal\n",
      "<Element 'substrate' at 0x1152fdae0>\n",
      " -->  cargo signal\n",
      "fill_gui(): uep_custom_data= <Element 'custom_data' at 0x115302040>\n",
      "0 )  <Element 'receptor' at 0x115302090>\n",
      "tag= receptor\n",
      "--- cell_def_tab.py: fill_custom_data_tab(): uep_cell_defs=  <Element 'cell_definitions' at 0x1152f7360>\n",
      "0 )  <Element 'receptor' at 0x115302090>\n",
      "tag= receptor\n",
      "uep_user_params= <Element 'user_parameters' at 0x115318270>\n",
      "0 )  <Element 'random_seed' at 0x1153182c0>\n",
      "tag= random_seed\n",
      "----- no description found. \n",
      "1 )  <Element 'cargo_signal_D' at 0x115318310>\n",
      "tag= cargo_signal_D\n",
      "----- no description found. \n",
      "2 )  <Element 'cargo_signal_decay' at 0x1153183b0>\n",
      "tag= cargo_signal_decay\n",
      "----- no description found. \n",
      "3 )  <Element 'director_signal_D' at 0x115318450>\n",
      "tag= director_signal_D\n",
      "----- no description found. \n",
      "4 )  <Element 'director_signal_decay' at 0x1153184f0>\n",
      "tag= director_signal_decay\n",
      "----- no description found. \n",
      "5 )  <Element 'elastic_coefficient' at 0x115318590>\n",
      "tag= elastic_coefficient\n",
      "----- no description found. \n",
      "6 )  <Element 'attached_worker_migration_bias' at 0x115318630>\n",
      "tag= attached_worker_migration_bias\n",
      "----- no description found. \n",
      "7 )  <Element 'unattached_worker_migration_bias' at 0x1153186d0>\n",
      "tag= unattached_worker_migration_bias\n",
      "----- no description found. \n",
      "8 )  <Element 'number_of_directors' at 0x115318770>\n",
      "tag= number_of_directors\n",
      "----- no description found. \n",
      "9 )  <Element 'number_of_cargo_clusters' at 0x115318810>\n",
      "tag= number_of_cargo_clusters\n",
      "----- no description found. \n",
      "10 )  <Element 'number_of_workers' at 0x1153188b0>\n",
      "tag= number_of_workers\n",
      "----- no description found. \n",
      "11 )  <Element 'drop_threshold' at 0x115318900>\n",
      "tag= drop_threshold\n",
      "----- no description found. \n",
      "12 )  <Element 'worker_color' at 0x115318950>\n",
      "tag= worker_color\n",
      "----- no description found. \n",
      "13 )  <Element 'cargo_color' at 0x1153189a0>\n",
      "tag= cargo_color\n",
      "----- no description found. \n",
      "14 )  <Element 'director_color' at 0x1153189f0>\n",
      "tag= director_color\n",
      "----- no description found. \n",
      "--------- tree_item_changed(): <PyQt5.QtWidgets.QTreeWidgetItem object at 0x11547fa60> 0 cargo signal\n",
      "self.current_substrate=  cargo signal\n",
      "--------- tree_item_changed(): <PyQt5.QtWidgets.QTreeWidgetItem object at 0x11547bca0> 0 director signal\n",
      "self.current_substrate=  director signal\n",
      "--------- tree_item_changed(): <PyQt5.QtWidgets.QTreeWidgetItem object at 0x11547fa60> 0 cargo signal\n",
      "self.current_substrate=  cargo signal\n",
      "--------- tree_item_changed(): <PyQt5.QtWidgets.QTreeWidgetItem object at 0x11547bca0> 0 director signal\n",
      "self.current_substrate=  director signal\n",
      "------ new_substrate\n",
      " ===>>>  director signal  :  {'name': 'director signal', 'diffusion_coef': '1000', 'decay_rate': '.1', 'init_cond': '0', 'dirichlet_bc': '1', 'dirichlet_enabled': False, 'enable_xmin': False, 'enable_xmax': False, 'enable_ymin': False, 'enable_ymax': False, 'enable_zmin': False, 'enable_zmax': False}\n",
      " ===>>>  cargo signal  :  {'name': 'cargo signal', 'diffusion_coef': '1000', 'decay_rate': '.4', 'init_cond': '0', 'dirichlet_bc': '1', 'dirichlet_enabled': False, 'enable_xmin': False, 'enable_xmax': False, 'enable_ymin': False, 'enable_ymax': False, 'enable_zmin': False, 'enable_zmax': False}\n",
      " ===>>>  substrate01  :  {'name': 'director signal', 'diffusion_coef': '1000', 'decay_rate': '.1', 'init_cond': '0', 'dirichlet_bc': '1', 'dirichlet_enabled': False, 'enable_xmin': False, 'enable_xmax': False, 'enable_ymin': False, 'enable_ymax': False, 'enable_zmin': False, 'enable_zmax': False}\n",
      "------ new_substrate\n",
      " ===>>>  director signal  :  {'name': 'director signal', 'diffusion_coef': '1000', 'decay_rate': '.1', 'init_cond': '0', 'dirichlet_bc': '1', 'dirichlet_enabled': False, 'enable_xmin': False, 'enable_xmax': False, 'enable_ymin': False, 'enable_ymax': False, 'enable_zmin': False, 'enable_zmax': False}\n",
      " ===>>>  cargo signal  :  {'name': 'cargo signal', 'diffusion_coef': '1000', 'decay_rate': '.4', 'init_cond': '0', 'dirichlet_bc': '1', 'dirichlet_enabled': False, 'enable_xmin': False, 'enable_xmax': False, 'enable_ymin': False, 'enable_ymax': False, 'enable_zmin': False, 'enable_zmax': False}\n",
      " ===>>>  substrate01  :  {'name': 'director signal', 'diffusion_coef': '1000', 'decay_rate': '.1', 'init_cond': '0', 'dirichlet_bc': '1', 'dirichlet_enabled': False, 'enable_xmin': False, 'enable_xmax': False, 'enable_ymin': False, 'enable_ymax': False, 'enable_zmin': False, 'enable_zmax': False}\n",
      " ===>>>  substrate02  :  {'name': 'director signal', 'diffusion_coef': '1000', 'decay_rate': '.1', 'init_cond': '0', 'dirichlet_bc': '1', 'dirichlet_enabled': False, 'enable_xmin': False, 'enable_xmax': False, 'enable_ymin': False, 'enable_ymax': False, 'enable_zmin': False, 'enable_zmax': False}\n",
      "------ delete_substrate\n",
      " ===>>>  director signal  :  {'name': 'director signal', 'diffusion_coef': '1000', 'decay_rate': '.1', 'init_cond': '0', 'dirichlet_bc': '1', 'dirichlet_enabled': False, 'enable_xmin': False, 'enable_xmax': False, 'enable_ymin': False, 'enable_ymax': False, 'enable_zmin': False, 'enable_zmax': False}\n",
      " ===>>>  cargo signal  :  {'name': 'cargo signal', 'diffusion_coef': '1000', 'decay_rate': '.4', 'init_cond': '0', 'dirichlet_bc': '1', 'dirichlet_enabled': False, 'enable_xmin': False, 'enable_xmax': False, 'enable_ymin': False, 'enable_ymax': False, 'enable_zmin': False, 'enable_zmax': False}\n",
      " ===>>>  substrate01  :  {'name': 'director signal', 'diffusion_coef': '1000', 'decay_rate': '.1', 'init_cond': '0', 'dirichlet_bc': '1', 'dirichlet_enabled': False, 'enable_xmin': False, 'enable_xmax': False, 'enable_ymin': False, 'enable_ymax': False, 'enable_zmin': False, 'enable_zmax': False}\n",
      "------      item_idx= 3\n",
      "------- delete_substrate_from_comboboxes: name= 3\n",
      "------      new name= substrate01\n"
     ]
    },
    {
     "ename": "KeyError",
     "evalue": "'substrate01'",
     "output_type": "error",
     "traceback": [
      "\u001b[0;31m---------------------------------------------------------------------------\u001b[0m",
      "\u001b[0;31mKeyError\u001b[0m                                  Traceback (most recent call last)",
      "\u001b[0;32m~/git/xml_creator/qt_for_python/gui4xml/pyqt5_version/microenv_tab.py\u001b[0m in \u001b[0;36mdecay_rate_changed\u001b[0;34m(self, text)\u001b[0m\n\u001b[1;32m    390\u001b[0m \u001b[0;34m\u001b[0m\u001b[0m\n\u001b[1;32m    391\u001b[0m     \u001b[0;32mdef\u001b[0m \u001b[0mdecay_rate_changed\u001b[0m\u001b[0;34m(\u001b[0m\u001b[0mself\u001b[0m\u001b[0;34m,\u001b[0m \u001b[0mtext\u001b[0m\u001b[0;34m)\u001b[0m\u001b[0;34m:\u001b[0m\u001b[0;34m\u001b[0m\u001b[0;34m\u001b[0m\u001b[0m\n\u001b[0;32m--> 392\u001b[0;31m         \u001b[0mself\u001b[0m\u001b[0;34m.\u001b[0m\u001b[0mparam_d\u001b[0m\u001b[0;34m[\u001b[0m\u001b[0mself\u001b[0m\u001b[0;34m.\u001b[0m\u001b[0mcurrent_substrate\u001b[0m\u001b[0;34m]\u001b[0m\u001b[0;34m[\u001b[0m\u001b[0;34m\"decay_rate\"\u001b[0m\u001b[0;34m]\u001b[0m \u001b[0;34m=\u001b[0m \u001b[0mtext\u001b[0m\u001b[0;34m\u001b[0m\u001b[0;34m\u001b[0m\u001b[0m\n\u001b[0m\u001b[1;32m    393\u001b[0m     \u001b[0;32mdef\u001b[0m \u001b[0minit_cond_changed\u001b[0m\u001b[0;34m(\u001b[0m\u001b[0mself\u001b[0m\u001b[0;34m,\u001b[0m \u001b[0mtext\u001b[0m\u001b[0;34m)\u001b[0m\u001b[0;34m:\u001b[0m\u001b[0;34m\u001b[0m\u001b[0;34m\u001b[0m\u001b[0m\n\u001b[1;32m    394\u001b[0m         \u001b[0mself\u001b[0m\u001b[0;34m.\u001b[0m\u001b[0mparam_d\u001b[0m\u001b[0;34m[\u001b[0m\u001b[0mself\u001b[0m\u001b[0;34m.\u001b[0m\u001b[0mcurrent_substrate\u001b[0m\u001b[0;34m]\u001b[0m\u001b[0;34m[\u001b[0m\u001b[0;34m\"init_cond\"\u001b[0m\u001b[0;34m]\u001b[0m \u001b[0;34m=\u001b[0m \u001b[0mtext\u001b[0m\u001b[0;34m\u001b[0m\u001b[0;34m\u001b[0m\u001b[0m\n",
      "\u001b[0;31mKeyError\u001b[0m: 'substrate01'"
     ]
    },
    {
     "name": "stdout",
     "output_type": "stream",
     "text": [
      "------ delete_substrate\n"
     ]
    },
    {
     "ename": "KeyError",
     "evalue": "'substrate01'",
     "output_type": "error",
     "traceback": [
      "\u001b[0;31m---------------------------------------------------------------------------\u001b[0m",
      "\u001b[0;31mKeyError\u001b[0m                                  Traceback (most recent call last)",
      "\u001b[0;32m~/git/xml_creator/qt_for_python/gui4xml/pyqt5_version/microenv_tab.py\u001b[0m in \u001b[0;36mdelete_substrate\u001b[0;34m(self)\u001b[0m\n\u001b[1;32m    493\u001b[0m \u001b[0;34m\u001b[0m\u001b[0m\n\u001b[1;32m    494\u001b[0m         \u001b[0;31m# rwh: BEWARE of mutating the dict!\u001b[0m\u001b[0;34m\u001b[0m\u001b[0;34m\u001b[0m\u001b[0;34m\u001b[0m\u001b[0m\n\u001b[0;32m--> 495\u001b[0;31m         \u001b[0;32mdel\u001b[0m \u001b[0mself\u001b[0m\u001b[0;34m.\u001b[0m\u001b[0mparam_d\u001b[0m\u001b[0;34m[\u001b[0m\u001b[0mself\u001b[0m\u001b[0;34m.\u001b[0m\u001b[0mcurrent_substrate\u001b[0m\u001b[0;34m]\u001b[0m\u001b[0;34m\u001b[0m\u001b[0;34m\u001b[0m\u001b[0m\n\u001b[0m\u001b[1;32m    496\u001b[0m \u001b[0;34m\u001b[0m\u001b[0m\n\u001b[1;32m    497\u001b[0m         \u001b[0;31m# may need to make a copy instead??\u001b[0m\u001b[0;34m\u001b[0m\u001b[0;34m\u001b[0m\u001b[0;34m\u001b[0m\u001b[0m\n",
      "\u001b[0;31mKeyError\u001b[0m: 'substrate01'"
     ]
    },
    {
     "name": "stdout",
     "output_type": "stream",
     "text": [
      "--------- tree_item_changed(): <PyQt5.QtWidgets.QTreeWidgetItem object at 0x11547fa60> 0 cargo signal\n",
      "self.current_substrate=  cargo signal\n"
     ]
    },
    {
     "ename": "KeyError",
     "evalue": "'name'",
     "output_type": "error",
     "traceback": [
      "\u001b[0;31m---------------------------------------------------------------------------\u001b[0m",
      "\u001b[0;31mKeyError\u001b[0m                                  Traceback (most recent call last)",
      "\u001b[0;32m~/git/xml_creator/qt_for_python/gui4xml/pyqt5_version/microenv_tab.py\u001b[0m in \u001b[0;36mtree_item_changed_cb\u001b[0;34m(self, it, col)\u001b[0m\n\u001b[1;32m    533\u001b[0m         \u001b[0;31m# self.fill_gui(self.current_substrate)\u001b[0m\u001b[0;34m\u001b[0m\u001b[0;34m\u001b[0m\u001b[0;34m\u001b[0m\u001b[0m\n\u001b[1;32m    534\u001b[0m \u001b[0;34m\u001b[0m\u001b[0m\n\u001b[0;32m--> 535\u001b[0;31m         \u001b[0mself\u001b[0m\u001b[0;34m.\u001b[0m\u001b[0msubstrate_name\u001b[0m\u001b[0;34m.\u001b[0m\u001b[0msetText\u001b[0m\u001b[0;34m(\u001b[0m\u001b[0mself\u001b[0m\u001b[0;34m.\u001b[0m\u001b[0mparam_d\u001b[0m\u001b[0;34m[\u001b[0m\u001b[0mself\u001b[0m\u001b[0;34m.\u001b[0m\u001b[0mcurrent_substrate\u001b[0m\u001b[0;34m]\u001b[0m\u001b[0;34m[\u001b[0m\u001b[0;34m\"name\"\u001b[0m\u001b[0;34m]\u001b[0m\u001b[0;34m)\u001b[0m\u001b[0;34m\u001b[0m\u001b[0;34m\u001b[0m\u001b[0m\n\u001b[0m\u001b[1;32m    536\u001b[0m         \u001b[0mself\u001b[0m\u001b[0;34m.\u001b[0m\u001b[0mdiffusion_coef\u001b[0m\u001b[0;34m.\u001b[0m\u001b[0msetText\u001b[0m\u001b[0;34m(\u001b[0m\u001b[0mself\u001b[0m\u001b[0;34m.\u001b[0m\u001b[0mparam_d\u001b[0m\u001b[0;34m[\u001b[0m\u001b[0mself\u001b[0m\u001b[0;34m.\u001b[0m\u001b[0mcurrent_substrate\u001b[0m\u001b[0;34m]\u001b[0m\u001b[0;34m[\u001b[0m\u001b[0;34m\"diffusion_coef\"\u001b[0m\u001b[0;34m]\u001b[0m\u001b[0;34m)\u001b[0m\u001b[0;34m\u001b[0m\u001b[0;34m\u001b[0m\u001b[0m\n\u001b[1;32m    537\u001b[0m         \u001b[0mself\u001b[0m\u001b[0;34m.\u001b[0m\u001b[0mdecay_rate\u001b[0m\u001b[0;34m.\u001b[0m\u001b[0msetText\u001b[0m\u001b[0;34m(\u001b[0m\u001b[0mself\u001b[0m\u001b[0;34m.\u001b[0m\u001b[0mparam_d\u001b[0m\u001b[0;34m[\u001b[0m\u001b[0mself\u001b[0m\u001b[0;34m.\u001b[0m\u001b[0mcurrent_substrate\u001b[0m\u001b[0;34m]\u001b[0m\u001b[0;34m[\u001b[0m\u001b[0;34m\"decay_rate\"\u001b[0m\u001b[0;34m]\u001b[0m\u001b[0;34m)\u001b[0m\u001b[0;34m\u001b[0m\u001b[0;34m\u001b[0m\u001b[0m\n",
      "\u001b[0;31mKeyError\u001b[0m: 'name'"
     ]
    },
    {
     "name": "stdout",
     "output_type": "stream",
     "text": [
      "--------- tree_item_changed(): <PyQt5.QtWidgets.QTreeWidgetItem object at 0x11547bca0> 0 director signal\n",
      "self.current_substrate=  director signal\n"
     ]
    },
    {
     "ename": "KeyError",
     "evalue": "'name'",
     "output_type": "error",
     "traceback": [
      "\u001b[0;31m---------------------------------------------------------------------------\u001b[0m",
      "\u001b[0;31mKeyError\u001b[0m                                  Traceback (most recent call last)",
      "\u001b[0;32m~/git/xml_creator/qt_for_python/gui4xml/pyqt5_version/microenv_tab.py\u001b[0m in \u001b[0;36mtree_item_changed_cb\u001b[0;34m(self, it, col)\u001b[0m\n\u001b[1;32m    533\u001b[0m         \u001b[0;31m# self.fill_gui(self.current_substrate)\u001b[0m\u001b[0;34m\u001b[0m\u001b[0;34m\u001b[0m\u001b[0;34m\u001b[0m\u001b[0m\n\u001b[1;32m    534\u001b[0m \u001b[0;34m\u001b[0m\u001b[0m\n\u001b[0;32m--> 535\u001b[0;31m         \u001b[0mself\u001b[0m\u001b[0;34m.\u001b[0m\u001b[0msubstrate_name\u001b[0m\u001b[0;34m.\u001b[0m\u001b[0msetText\u001b[0m\u001b[0;34m(\u001b[0m\u001b[0mself\u001b[0m\u001b[0;34m.\u001b[0m\u001b[0mparam_d\u001b[0m\u001b[0;34m[\u001b[0m\u001b[0mself\u001b[0m\u001b[0;34m.\u001b[0m\u001b[0mcurrent_substrate\u001b[0m\u001b[0;34m]\u001b[0m\u001b[0;34m[\u001b[0m\u001b[0;34m\"name\"\u001b[0m\u001b[0;34m]\u001b[0m\u001b[0;34m)\u001b[0m\u001b[0;34m\u001b[0m\u001b[0;34m\u001b[0m\u001b[0m\n\u001b[0m\u001b[1;32m    536\u001b[0m         \u001b[0mself\u001b[0m\u001b[0;34m.\u001b[0m\u001b[0mdiffusion_coef\u001b[0m\u001b[0;34m.\u001b[0m\u001b[0msetText\u001b[0m\u001b[0;34m(\u001b[0m\u001b[0mself\u001b[0m\u001b[0;34m.\u001b[0m\u001b[0mparam_d\u001b[0m\u001b[0;34m[\u001b[0m\u001b[0mself\u001b[0m\u001b[0;34m.\u001b[0m\u001b[0mcurrent_substrate\u001b[0m\u001b[0;34m]\u001b[0m\u001b[0;34m[\u001b[0m\u001b[0;34m\"diffusion_coef\"\u001b[0m\u001b[0;34m]\u001b[0m\u001b[0;34m)\u001b[0m\u001b[0;34m\u001b[0m\u001b[0;34m\u001b[0m\u001b[0m\n\u001b[1;32m    537\u001b[0m         \u001b[0mself\u001b[0m\u001b[0;34m.\u001b[0m\u001b[0mdecay_rate\u001b[0m\u001b[0;34m.\u001b[0m\u001b[0msetText\u001b[0m\u001b[0;34m(\u001b[0m\u001b[0mself\u001b[0m\u001b[0;34m.\u001b[0m\u001b[0mparam_d\u001b[0m\u001b[0;34m[\u001b[0m\u001b[0mself\u001b[0m\u001b[0;34m.\u001b[0m\u001b[0mcurrent_substrate\u001b[0m\u001b[0;34m]\u001b[0m\u001b[0;34m[\u001b[0m\u001b[0;34m\"decay_rate\"\u001b[0m\u001b[0;34m]\u001b[0m\u001b[0;34m)\u001b[0m\u001b[0;34m\u001b[0m\u001b[0;34m\u001b[0m\u001b[0m\n",
      "\u001b[0;31mKeyError\u001b[0m: 'name'"
     ]
    },
    {
     "name": "stdout",
     "output_type": "stream",
     "text": [
      "--------- tree_item_changed(): <PyQt5.QtWidgets.QTreeWidgetItem object at 0x115e5aee0> 0 substrate01\n",
      "self.current_substrate=  substrate01\n"
     ]
    },
    {
     "ename": "KeyError",
     "evalue": "'substrate01'",
     "output_type": "error",
     "traceback": [
      "\u001b[0;31m---------------------------------------------------------------------------\u001b[0m",
      "\u001b[0;31mKeyError\u001b[0m                                  Traceback (most recent call last)",
      "\u001b[0;32m~/git/xml_creator/qt_for_python/gui4xml/pyqt5_version/microenv_tab.py\u001b[0m in \u001b[0;36mtree_item_changed_cb\u001b[0;34m(self, it, col)\u001b[0m\n\u001b[1;32m    533\u001b[0m         \u001b[0;31m# self.fill_gui(self.current_substrate)\u001b[0m\u001b[0;34m\u001b[0m\u001b[0;34m\u001b[0m\u001b[0;34m\u001b[0m\u001b[0m\n\u001b[1;32m    534\u001b[0m \u001b[0;34m\u001b[0m\u001b[0m\n\u001b[0;32m--> 535\u001b[0;31m         \u001b[0mself\u001b[0m\u001b[0;34m.\u001b[0m\u001b[0msubstrate_name\u001b[0m\u001b[0;34m.\u001b[0m\u001b[0msetText\u001b[0m\u001b[0;34m(\u001b[0m\u001b[0mself\u001b[0m\u001b[0;34m.\u001b[0m\u001b[0mparam_d\u001b[0m\u001b[0;34m[\u001b[0m\u001b[0mself\u001b[0m\u001b[0;34m.\u001b[0m\u001b[0mcurrent_substrate\u001b[0m\u001b[0;34m]\u001b[0m\u001b[0;34m[\u001b[0m\u001b[0;34m\"name\"\u001b[0m\u001b[0;34m]\u001b[0m\u001b[0;34m)\u001b[0m\u001b[0;34m\u001b[0m\u001b[0;34m\u001b[0m\u001b[0m\n\u001b[0m\u001b[1;32m    536\u001b[0m         \u001b[0mself\u001b[0m\u001b[0;34m.\u001b[0m\u001b[0mdiffusion_coef\u001b[0m\u001b[0;34m.\u001b[0m\u001b[0msetText\u001b[0m\u001b[0;34m(\u001b[0m\u001b[0mself\u001b[0m\u001b[0;34m.\u001b[0m\u001b[0mparam_d\u001b[0m\u001b[0;34m[\u001b[0m\u001b[0mself\u001b[0m\u001b[0;34m.\u001b[0m\u001b[0mcurrent_substrate\u001b[0m\u001b[0;34m]\u001b[0m\u001b[0;34m[\u001b[0m\u001b[0;34m\"diffusion_coef\"\u001b[0m\u001b[0;34m]\u001b[0m\u001b[0;34m)\u001b[0m\u001b[0;34m\u001b[0m\u001b[0;34m\u001b[0m\u001b[0m\n\u001b[1;32m    537\u001b[0m         \u001b[0mself\u001b[0m\u001b[0;34m.\u001b[0m\u001b[0mdecay_rate\u001b[0m\u001b[0;34m.\u001b[0m\u001b[0msetText\u001b[0m\u001b[0;34m(\u001b[0m\u001b[0mself\u001b[0m\u001b[0;34m.\u001b[0m\u001b[0mparam_d\u001b[0m\u001b[0;34m[\u001b[0m\u001b[0mself\u001b[0m\u001b[0;34m.\u001b[0m\u001b[0mcurrent_substrate\u001b[0m\u001b[0;34m]\u001b[0m\u001b[0;34m[\u001b[0m\u001b[0;34m\"decay_rate\"\u001b[0m\u001b[0;34m]\u001b[0m\u001b[0;34m)\u001b[0m\u001b[0;34m\u001b[0m\u001b[0;34m\u001b[0m\u001b[0m\n",
      "\u001b[0;31mKeyError\u001b[0m: 'substrate01'"
     ]
    },
    {
     "name": "stdout",
     "output_type": "stream",
     "text": [
      "--------- tree_item_changed(): <PyQt5.QtWidgets.QTreeWidgetItem object at 0x11547fa60> 0 cargo signal\n",
      "self.current_substrate=  cargo signal\n"
     ]
    },
    {
     "ename": "KeyError",
     "evalue": "'name'",
     "output_type": "error",
     "traceback": [
      "\u001b[0;31m---------------------------------------------------------------------------\u001b[0m",
      "\u001b[0;31mKeyError\u001b[0m                                  Traceback (most recent call last)",
      "\u001b[0;32m~/git/xml_creator/qt_for_python/gui4xml/pyqt5_version/microenv_tab.py\u001b[0m in \u001b[0;36mtree_item_changed_cb\u001b[0;34m(self, it, col)\u001b[0m\n\u001b[1;32m    533\u001b[0m         \u001b[0;31m# self.fill_gui(self.current_substrate)\u001b[0m\u001b[0;34m\u001b[0m\u001b[0;34m\u001b[0m\u001b[0;34m\u001b[0m\u001b[0m\n\u001b[1;32m    534\u001b[0m \u001b[0;34m\u001b[0m\u001b[0m\n\u001b[0;32m--> 535\u001b[0;31m         \u001b[0mself\u001b[0m\u001b[0;34m.\u001b[0m\u001b[0msubstrate_name\u001b[0m\u001b[0;34m.\u001b[0m\u001b[0msetText\u001b[0m\u001b[0;34m(\u001b[0m\u001b[0mself\u001b[0m\u001b[0;34m.\u001b[0m\u001b[0mparam_d\u001b[0m\u001b[0;34m[\u001b[0m\u001b[0mself\u001b[0m\u001b[0;34m.\u001b[0m\u001b[0mcurrent_substrate\u001b[0m\u001b[0;34m]\u001b[0m\u001b[0;34m[\u001b[0m\u001b[0;34m\"name\"\u001b[0m\u001b[0;34m]\u001b[0m\u001b[0;34m)\u001b[0m\u001b[0;34m\u001b[0m\u001b[0;34m\u001b[0m\u001b[0m\n\u001b[0m\u001b[1;32m    536\u001b[0m         \u001b[0mself\u001b[0m\u001b[0;34m.\u001b[0m\u001b[0mdiffusion_coef\u001b[0m\u001b[0;34m.\u001b[0m\u001b[0msetText\u001b[0m\u001b[0;34m(\u001b[0m\u001b[0mself\u001b[0m\u001b[0;34m.\u001b[0m\u001b[0mparam_d\u001b[0m\u001b[0;34m[\u001b[0m\u001b[0mself\u001b[0m\u001b[0;34m.\u001b[0m\u001b[0mcurrent_substrate\u001b[0m\u001b[0;34m]\u001b[0m\u001b[0;34m[\u001b[0m\u001b[0;34m\"diffusion_coef\"\u001b[0m\u001b[0;34m]\u001b[0m\u001b[0;34m)\u001b[0m\u001b[0;34m\u001b[0m\u001b[0;34m\u001b[0m\u001b[0m\n\u001b[1;32m    537\u001b[0m         \u001b[0mself\u001b[0m\u001b[0;34m.\u001b[0m\u001b[0mdecay_rate\u001b[0m\u001b[0;34m.\u001b[0m\u001b[0msetText\u001b[0m\u001b[0;34m(\u001b[0m\u001b[0mself\u001b[0m\u001b[0;34m.\u001b[0m\u001b[0mparam_d\u001b[0m\u001b[0;34m[\u001b[0m\u001b[0mself\u001b[0m\u001b[0;34m.\u001b[0m\u001b[0mcurrent_substrate\u001b[0m\u001b[0;34m]\u001b[0m\u001b[0;34m[\u001b[0m\u001b[0;34m\"decay_rate\"\u001b[0m\u001b[0;34m]\u001b[0m\u001b[0;34m)\u001b[0m\u001b[0;34m\u001b[0m\u001b[0;34m\u001b[0m\u001b[0m\n",
      "\u001b[0;31mKeyError\u001b[0m: 'name'"
     ]
    }
   ],
   "source": [
    "run gui4xml.py"
   ]
  },
  {
   "cell_type": "code",
   "execution_count": null,
   "metadata": {},
   "outputs": [],
   "source": []
  }
 ],
 "metadata": {
  "kernelspec": {
   "display_name": "Python 3",
   "language": "python",
   "name": "python3"
  },
  "language_info": {
   "codemirror_mode": {
    "name": "ipython",
    "version": 3
   },
   "file_extension": ".py",
   "mimetype": "text/x-python",
   "name": "python",
   "nbconvert_exporter": "python",
   "pygments_lexer": "ipython3",
   "version": "3.8.5"
  }
 },
 "nbformat": 4,
 "nbformat_minor": 4
}
